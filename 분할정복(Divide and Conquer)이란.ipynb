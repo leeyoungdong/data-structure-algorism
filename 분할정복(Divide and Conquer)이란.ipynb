{
  "nbformat": 4,
  "nbformat_minor": 0,
  "metadata": {
    "colab": {
      "provenance": []
    },
    "kernelspec": {
      "name": "python3",
      "display_name": "Python 3"
    },
    "language_info": {
      "name": "python"
    }
  },
  "cells": [
    {
      "cell_type": "markdown",
      "source": [
        "# **분할정복(Divide and Conquer)이란?**"
      ],
      "metadata": {
        "id": "MoTfVgWSWkOh"
      }
    },
    {
      "cell_type": "markdown",
      "source": [
        "분할 정복(Divide and Conquer)은 문제를 분할해서 분할한 문제를 해결한 다음 결과를 조합하는 알고리즘이다. 큰 문제를 작은 문제로 분할한다는 관점에서 하향식 접근 방법으로 문제를 푼다고 볼 수 있다.\n",
        "\n",
        "분할: 문제를 동일한 유형의 여러 하위 문제로 나누는 것\n",
        "\n",
        "해결: 가장 작은 단위의 하위 문제를 해결하는 것\n",
        "\n",
        "조합: 하위 문제에 대한 결과를 원래 문제에 대한 결과로 조합하는 것\n",
        "\n",
        "분할 정복 알고리즘은 보통 재귀를 사용하여 구현한다."
      ],
      "metadata": {
        "id": "Ik-WBupaWnHQ"
      }
    },
    {
      "cell_type": "markdown",
      "source": [
        "**모든수 더하기기**"
      ],
      "metadata": {
        "id": "PJaWGgAtXjFv"
      }
    },
    {
      "cell_type": "code",
      "source": [
        "def sum_a(start, end):\n",
        "  if start == end:\n",
        "    return start\n",
        "  \n",
        "  middle = (start+end)//2\n",
        "  \n",
        "  return sum_a(start, middle)+sum_a(middle+1, end)"
      ],
      "metadata": {
        "id": "RA6_6OJHXkiw"
      },
      "execution_count": 7,
      "outputs": []
    },
    {
      "cell_type": "code",
      "source": [
        "sum_a(1,10)"
      ],
      "metadata": {
        "colab": {
          "base_uri": "https://localhost:8080/"
        },
        "id": "8ScuRZLlX2hH",
        "outputId": "bb5b908e-b219-4bf7-ea0b-dff3f28c272e"
      },
      "execution_count": 8,
      "outputs": [
        {
          "output_type": "execute_result",
          "data": {
            "text/plain": [
              "55"
            ]
          },
          "metadata": {},
          "execution_count": 8
        }
      ]
    },
    {
      "cell_type": "markdown",
      "source": [
        " **피보나치 수열 코드**"
      ],
      "metadata": {
        "id": "SQ8yP4VhW90w"
      }
    },
    {
      "cell_type": "code",
      "source": [
        "def fibb(n):\n",
        "  if n <= 1:\n",
        "    return 1\n",
        "  return fibb(n-1) + fibb(n-2)"
      ],
      "metadata": {
        "id": "GJIZ_VxRWdts"
      },
      "execution_count": 3,
      "outputs": []
    },
    {
      "cell_type": "code",
      "source": [
        "fibb(7)"
      ],
      "metadata": {
        "colab": {
          "base_uri": "https://localhost:8080/"
        },
        "id": "ZNOlMZ_WWdpT",
        "outputId": "9cc5d56a-70b4-41c7-b331-17df46ab3c08"
      },
      "execution_count": 4,
      "outputs": [
        {
          "output_type": "execute_result",
          "data": {
            "text/plain": [
              "21"
            ]
          },
          "metadata": {},
          "execution_count": 4
        }
      ]
    }
  ]
}
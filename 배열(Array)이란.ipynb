{
  "nbformat": 4,
  "nbformat_minor": 0,
  "metadata": {
    "colab": {
      "provenance": []
    },
    "kernelspec": {
      "name": "python3",
      "display_name": "Python 3"
    },
    "language_info": {
      "name": "python"
    }
  },
  "cells": [
    {
      "cell_type": "markdown",
      "source": [
        "# **배열(Array)이란?**"
      ],
      "metadata": {
        "id": "OZR851rqlaye"
      }
    },
    {
      "cell_type": "markdown",
      "source": [
        "데이터를 나열하고, 각 데이터를 인덱스에 대응하도록 구성한 데이터 구조이다.\n",
        "\n",
        "파이썬에서는 리스트 타입이 배열 기능을 제공한다."
      ],
      "metadata": {
        "id": "WrXfx9odldUp"
      }
    },
    {
      "cell_type": "markdown",
      "source": [
        "**필요성**\n",
        "\n",
        "같은 종류의 데이터를 효율적으로 관리하기 위해 사용한다.\n",
        "\n",
        "같은 종류의 데이터를 순차적으로 저장한다.\n",
        "\n",
        "**장단점**\n",
        "\n",
        "**장점**\n",
        "\n",
        "빠른 접근이 가능하다.\n",
        "\n",
        "첫 데이터의 위치에서 상대적인 위치로 데이터 접근이 가능하다.\n",
        "\n",
        "인덱스 번호로 접근할 수 있다.\n",
        "\n",
        "**단점**\n",
        "\n",
        "데이터의 추가나 삭제가 어렵다.\n",
        "\n",
        "미리 최대 길이를 지정해야 한다."
      ],
      "metadata": {
        "id": "QktVeOHzmKEf"
      }
    },
    {
      "cell_type": "code",
      "execution_count": 1,
      "metadata": {
        "id": "KHyVBOVolYwt"
      },
      "outputs": [],
      "source": [
        "# 1차원 배열\n",
        "one_dimension = [1,2,3,4,5]\n",
        "\n",
        "# 2차원 배열\n",
        "two_dimension = [[1,2,3],[4,5,6],[7,8,9]]"
      ]
    },
    {
      "cell_type": "code",
      "source": [
        "print(one_dimension[0]), print(one_dimension[4])"
      ],
      "metadata": {
        "colab": {
          "base_uri": "https://localhost:8080/"
        },
        "id": "mSXYGt9xmrwL",
        "outputId": "01310ee3-7878-494d-aa22-8726d63003ad"
      },
      "execution_count": 2,
      "outputs": [
        {
          "output_type": "stream",
          "name": "stdout",
          "text": [
            "1\n",
            "5\n"
          ]
        },
        {
          "output_type": "execute_result",
          "data": {
            "text/plain": [
              "(None, None)"
            ]
          },
          "metadata": {},
          "execution_count": 2
        }
      ]
    },
    {
      "cell_type": "code",
      "source": [
        "print(two_dimension[0][0]),print(two_dimension[1][0]),print(two_dimension[2][2])"
      ],
      "metadata": {
        "colab": {
          "base_uri": "https://localhost:8080/"
        },
        "id": "EjO5Dhiamzvr",
        "outputId": "8cbd55ab-526b-41d3-efb1-08882f42fe8d"
      },
      "execution_count": 3,
      "outputs": [
        {
          "output_type": "stream",
          "name": "stdout",
          "text": [
            "1\n",
            "4\n",
            "9\n"
          ]
        },
        {
          "output_type": "execute_result",
          "data": {
            "text/plain": [
              "(None, None, None)"
            ]
          },
          "metadata": {},
          "execution_count": 3
        }
      ]
    }
  ]
}
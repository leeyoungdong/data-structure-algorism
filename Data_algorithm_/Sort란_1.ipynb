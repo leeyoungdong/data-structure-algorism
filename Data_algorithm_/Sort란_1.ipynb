{
  "nbformat": 4,
  "nbformat_minor": 0,
  "metadata": {
    "colab": {
      "provenance": []
    },
    "kernelspec": {
      "name": "python3",
      "display_name": "Python 3"
    },
    "language_info": {
      "name": "python"
    }
  },
  "cells": [
    {
      "cell_type": "markdown",
      "source": [
        "# **Bubble Sort**"
      ],
      "metadata": {
        "id": "jX3nTVR805_Y"
      }
    },
    {
      "cell_type": "markdown",
      "source": [
        "버블 정렬(Bubble Sort)은 배열의 0번부터 N-1번까지 탐색을 하면서 인접한 칸과 비교하여 swap을 하는 방식의 정렬 알고리즘이다.\n",
        "\n",
        "j번째 값과 j+1번째 값을 비교해서 만약 j번째 값이 더 크다면 swap을 해주는 식으로 동작한다."
      ],
      "metadata": {
        "id": "xYBuC2xw0-gX"
      }
    },
    {
      "cell_type": "code",
      "source": [
        "def bubbleSort(alist):\n",
        "    for a in range(len(alist)-1, 0, -1):\n",
        "        for i in range(a):\n",
        "            if alist[i] > alist[i+1]:\n",
        "               alist[i], alist[i+1] = alist[i+1], alist[i]\n",
        "    return alist"
      ],
      "metadata": {
        "id": "n1h6PMT54xpH"
      },
      "execution_count": 44,
      "outputs": []
    },
    {
      "cell_type": "code",
      "source": [
        "a = [31,17,155,3,2,321,41]\n",
        "print(bubbleSort(a))"
      ],
      "metadata": {
        "colab": {
          "base_uri": "https://localhost:8080/"
        },
        "id": "ySkAeiDQ1h8A",
        "outputId": "82a1a844-72db-4fb4-d87c-dea664ea74b1"
      },
      "execution_count": 45,
      "outputs": [
        {
          "output_type": "stream",
          "name": "stdout",
          "text": [
            "[2, 3, 17, 31, 41, 155, 321]\n"
          ]
        }
      ]
    },
    {
      "cell_type": "markdown",
      "source": [
        "# **Selection Sort**"
      ],
      "metadata": {
        "id": "QBWZtevQ5QVn"
      }
    },
    {
      "cell_type": "markdown",
      "source": [
        "선택 정렬(Selection Sort)은 위치 변경 횟수를 줄여, 버블 정렬을 일부 개선한 기법이다. 주어진 배열 중에 최댓값을 찾아 정렬되지 않은 배열의 맨 뒤의 값과 자리를 바꾸어나가는 정렬 알고리즘이다. 배열의 맨 뒤부터 차례로 정렬이 된다.\n",
        "\n",
        "선택 정렬은 일단 최댓값(혹은 최솟값)을 찾은 뒤에야 이 값을 정해진 위치로 보내주게 된다. 다시 말해 비교 횟수 측면에서는 버블 정렬과 선택 정렬이 같고 둘 모두 $O(n^2)$의 계산 복잡성을 갖지만 자리 이동(swap)측면에서는 선택 정렬이 효율적이다."
      ],
      "metadata": {
        "id": "kNcGSK1o5b2R"
      }
    },
    {
      "cell_type": "code",
      "source": [
        "def selection_sort(ar):\n",
        "  for i in range(len(ar)-1):\n",
        "    min = i\n",
        "    for j in range(i+1,len(ar)):\n",
        "        if ar[j] < ar[min]:\n",
        "            min = j\n",
        "    ar[i], ar[min] = ar[min], ar[i]\n",
        "  return ar"
      ],
      "metadata": {
        "id": "E6BHVChz5w0J"
      },
      "execution_count": 50,
      "outputs": []
    },
    {
      "cell_type": "code",
      "source": [
        "a = [31,17,155,3,2,321,41]\n",
        "print(selection_sort(a))"
      ],
      "metadata": {
        "colab": {
          "base_uri": "https://localhost:8080/"
        },
        "id": "gBQWhyRe8FC3",
        "outputId": "79ecf8ac-474f-46a1-8a86-254d6d38c8b0"
      },
      "execution_count": 51,
      "outputs": [
        {
          "output_type": "stream",
          "name": "stdout",
          "text": [
            "[2, 3, 17, 31, 41, 155, 321]\n"
          ]
        }
      ]
    },
    {
      "cell_type": "markdown",
      "source": [
        "# **Insertion Sort**"
      ],
      "metadata": {
        "id": "IwLTQpA08mIf"
      }
    },
    {
      "cell_type": "markdown",
      "source": [
        "삽입 정렬(Insertion Sort)은 배열의 모든 요소를 배열의 시작부터 끝까지 현재 배열의 요소들과 비교해 가면서 적절한 위치에 삽입하는 정렬 알고리즘이다."
      ],
      "metadata": {
        "id": "3BxfNwty8h-X"
      }
    },
    {
      "cell_type": "code",
      "source": [
        "def insert(ar):\n",
        "  for end in range(1, len(ar)):\n",
        "    for i in range(end, 0, -1):\n",
        "      if ar[i-1] > ar[i]:\n",
        "        ar[i-1], ar[i] = ar[i], ar[i-1]\n",
        "  return ar"
      ],
      "metadata": {
        "id": "GV-LOMTS8VH3"
      },
      "execution_count": 52,
      "outputs": []
    },
    {
      "cell_type": "code",
      "source": [
        "a = [31,17,155,3,2,321,41]\n",
        "print(insert(a))"
      ],
      "metadata": {
        "colab": {
          "base_uri": "https://localhost:8080/"
        },
        "id": "k0Z1oGgS9YPg",
        "outputId": "b918379c-f68b-4bd2-db42-53320136bafe"
      },
      "execution_count": 53,
      "outputs": [
        {
          "output_type": "stream",
          "name": "stdout",
          "text": [
            "[2, 3, 17, 31, 41, 155, 321]\n"
          ]
        }
      ]
    },
    {
      "cell_type": "markdown",
      "source": [
        "# **Merge Sort**"
      ],
      "metadata": {
        "id": "DK4efeT99bA-"
      }
    },
    {
      "cell_type": "markdown",
      "source": [
        "합병 정렬(Merge Sort)는 배열을 잘게 쪼갠 뒤 둘씩 크기를 비교해 정렬하고 분리된 리스트를 재귀적으로 합쳐서 정렬을 완성하는 정렬 알고리즘이다. 분할된 배열을 저장해둘 공간이 필요해 메모리 소모량이 큰 편이다. 문제를 분리하고 각각을 해결한 후 다시 합치는 Divide & Conquer 방식을 사용한다.\n",
        "\n",
        "Divide: 초기 배열을 2개의 배열로 분할한다.\n",
        "\n",
        "Conquer: 각 부분 배열을 재귀적으로 병합 정렬을 사용하여 정렬한다.\n",
        "\n",
        "Merge: 부분 배열을 하나의 배열로 결합한다."
      ],
      "metadata": {
        "id": "Y19ljTl-9oRY"
      }
    },
    {
      "cell_type": "code",
      "source": [
        "def merge_sort(arr):\n",
        "    if len(arr) < 2:\n",
        "        return arr\n",
        "\n",
        "    mid = len(arr) // 2\n",
        "    low_arr = merge_sort(arr[:mid])\n",
        "    high_arr = merge_sort(arr[mid:])\n",
        "\n",
        "    merged_arr = []\n",
        "    l = h = 0\n",
        "    while l < len(low_arr) and h < len(high_arr):\n",
        "        if low_arr[l] < high_arr[h]:\n",
        "            merged_arr.append(low_arr[l])\n",
        "            l += 1\n",
        "        else:\n",
        "            merged_arr.append(high_arr[h])\n",
        "            h += 1\n",
        "    merged_arr += low_arr[l:]\n",
        "    merged_arr += high_arr[h:]\n",
        "    return merged_arr"
      ],
      "metadata": {
        "id": "ut_RCcb3_TFm"
      },
      "execution_count": 57,
      "outputs": []
    },
    {
      "cell_type": "code",
      "source": [
        "a = [31,17,155,3,2,321,41]\n",
        "print(merge_sort(a))"
      ],
      "metadata": {
        "colab": {
          "base_uri": "https://localhost:8080/"
        },
        "id": "Icp--BWU-9C3",
        "outputId": "770ecffa-2665-425a-8aba-379a276dd95f"
      },
      "execution_count": 58,
      "outputs": [
        {
          "output_type": "stream",
          "name": "stdout",
          "text": [
            "[2, 3, 17, 31, 41, 155, 321]\n"
          ]
        }
      ]
    }
  ]
}
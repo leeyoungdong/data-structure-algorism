{
  "nbformat": 4,
  "nbformat_minor": 0,
  "metadata": {
    "colab": {
      "provenance": []
    },
    "kernelspec": {
      "name": "python3",
      "display_name": "Python 3"
    },
    "language_info": {
      "name": "python"
    }
  },
  "cells": [
    {
      "cell_type": "markdown",
      "source": [
        "# **Greedy Algorithm**"
      ],
      "metadata": {
        "id": "-nk6nvXP1gME"
      }
    },
    {
      "cell_type": "markdown",
      "source": [
        "그리디 알고리즘은 현재 단계에서의 최선의 방법을 선택하는 알고리즘이다.\n",
        "\n",
        "가장 큰 값만 선택, 가장 작은 값만 선택 등 한가지 방법을 정해놓고 다음단계로 나아가서도 같은 방식으로 문제를 해결한다. 단, 그리디 알고리즘을 적용하기 위해서는 정당성을 확인해야한다."
      ],
      "metadata": {
        "id": "A73lRDln1kBT"
      }
    },
    {
      "cell_type": "markdown",
      "source": [
        "순간마다 하는 선택은 그 순간에 대해 지역적으로는 최적이지만, 그 선택들을 계속 수집하여 최종적(전역적)인 해답을 만들었다고 해서, 그것이 최적이라는 보장은 없다.\n",
        "\n",
        " 하지만 탐욕 알고리즘을 적용할 수 있는 문제들은 지역적으로 최적이면서 전역적으로 최적인 문제들이다."
      ],
      "metadata": {
        "id": "GrUEE_W42rKc"
      }
    },
    {
      "cell_type": "markdown",
      "source": [
        "# **순서**"
      ],
      "metadata": {
        "id": "PcvN4YpZ3PHT"
      }
    },
    {
      "cell_type": "markdown",
      "source": [
        "* 선택 절차(Selection Procedure): 현재 상태에서의 최적의 해답을 선택한다.\n",
        "* 적절성 검사(Feasibility Check): 선택된 해가 문제의 조건을 만족하는지 검사한다.\n",
        "* 해답 검사(Solution Check): 원래의 문제가 해결되었는지 검사\n",
        "\n",
        " 해결되지 않았다면 선택 절차로 돌아가 위의 과정을 반복한다."
      ],
      "metadata": {
        "id": "7MqVn5lc2VeL"
      }
    },
    {
      "cell_type": "markdown",
      "source": [
        "# **조건**"
      ],
      "metadata": {
        "id": "7kxJxiDX3RP7"
      }
    },
    {
      "cell_type": "markdown",
      "source": [
        " 탐욕 알고리즘이 잘 작동하는 문제는 대부분 탐욕스런 선택 조건(greedy choice property)과 최적 부분 구조 조건(optimal substructure)이라는 두 가지 조건이 만족된다.\n",
        "\n",
        " 탐욕스런 선택 조건은 앞의 선택이 이후의 선택에 영향을 주지 않는다는 것이며, 최적 부분 구조 조건은 문제에 대한 최적해가 부분문제에 대해서도 역시 최적해라는 것이다.\n",
        "* 탐욕적 선택 속성(Greedy Choice Property) : 앞의 선택이 이후의 선택에 영향을 주지 않는다.\n",
        "* 최적 부분 구조(Optimal Substructure) : 문제에 대한 최종 해결 방법은 부분 문제에 대한 최적 문제 해결 방법으로 구성된다."
      ],
      "metadata": {
        "id": "6SGhLY7X2v3y"
      }
    },
    {
      "cell_type": "markdown",
      "source": [
        "위 2개의 조건이 성립하지 않으면 최적해를 구하지 못하지만, 개산속도가 빠르기 때문에 근사알고리즘으로 사용해 실용적으로 이용할수 있다."
      ],
      "metadata": {
        "id": "x5ZbMC0t4L7a"
      }
    }
  ]
}
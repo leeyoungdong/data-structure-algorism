{
  "nbformat": 4,
  "nbformat_minor": 0,
  "metadata": {
    "colab": {
      "provenance": []
    },
    "kernelspec": {
      "name": "python3",
      "display_name": "Python 3"
    },
    "language_info": {
      "name": "python"
    }
  },
  "cells": [
    {
      "cell_type": "markdown",
      "source": [
        "# **Quick Sort**"
      ],
      "metadata": {
        "id": "VCsNLwPPWCrM"
      }
    },
    {
      "cell_type": "markdown",
      "source": [
        "퀵 정렬(Quick Sort)는 pivot을 기준으로 pivot 앞에는 pivot보다 작은 값, 뒤에는 큰 값이 오도록 하여 배열을 분할하고, 분할된 두 개 배열 각각에 재귀적으로 이 과정을 반복해 정렬을 완성하는 정렬 알고리즘이다. 합병 정렬과 달리 주어진 배열을 임의로 나누지 않기 때문에 대개는 효율적이지만, pivot이 잘못 선택되면 복잡도가 $O(n^2)$이 될 수도 있다."
      ],
      "metadata": {
        "id": "0UYIuNZJWCpV"
      }
    },
    {
      "cell_type": "code",
      "source": [
        "def quick_sort(arr):\n",
        "    if len(arr) <= 1:\n",
        "        return arr\n",
        "    pivot = arr[len(arr) // 2]\n",
        "    lesser_arr, equal_arr, greater_arr = [], [], []\n",
        "    for num in arr:\n",
        "        if num < pivot:\n",
        "            lesser_arr.append(num)\n",
        "        elif num > pivot:\n",
        "            greater_arr.append(num)\n",
        "        else:\n",
        "            equal_arr.append(num)\n",
        "    return quick_sort(lesser_arr) + equal_arr + quick_sort(greater_arr)"
      ],
      "metadata": {
        "id": "dIgCwRCsWXcG"
      },
      "execution_count": 1,
      "outputs": []
    },
    {
      "cell_type": "code",
      "source": [
        "a = [1,5,23,132,15,36,45,337]\n",
        "quick_sort(a)"
      ],
      "metadata": {
        "colab": {
          "base_uri": "https://localhost:8080/"
        },
        "id": "wrd3xAkMWbe9",
        "outputId": "39a20404-47de-4c94-c952-8fb2cac57f5a"
      },
      "execution_count": 3,
      "outputs": [
        {
          "output_type": "execute_result",
          "data": {
            "text/plain": [
              "[1, 5, 15, 23, 36, 45, 132, 337]"
            ]
          },
          "metadata": {},
          "execution_count": 3
        }
      ]
    },
    {
      "cell_type": "markdown",
      "source": [
        "# **Counting Sort**"
      ],
      "metadata": {
        "id": "U47MYlY9WCnE"
      }
    },
    {
      "cell_type": "markdown",
      "source": [
        "계수 정렬(Counting Sort)은 입력값의 빈도를 세어서 이를 결과 리스트의 인덱스로 활용하고 입력 리스트의 요소값에 해당하는 결과 리스트 인덱스 위치에 채워 넣는 방식으로 정렬을 완성하는 정렬 알고리즘이다. 입력 리스트의 최댓값(k)이 커질수록 복잡도가 크게 높아진다.\n",
        "\n",
        "각 데이터의 개수를 모두 count 한다.\n",
        "\n",
        "최솟값부터 각 값까지의 count 누적합을 구한다.\n",
        "\n",
        "새로운 배열에 누적합의 개수를 줄여주며 저장한다."
      ],
      "metadata": {
        "id": "UewKrnFuWCks"
      }
    },
    {
      "cell_type": "code",
      "source": [
        "def counting_sort(A, k):\n",
        "  B = [-1] * len(A)\n",
        "  C = [0] * (k+1)\n",
        "\n",
        "  for a in A:\n",
        "    C[a] += 1\n",
        "  \n",
        "  for i in range(k):\n",
        "    C[i+1] += C[i]\n",
        "  \n",
        "  for j in reversed(range(len(A))):\n",
        "    B[C[A[j]] - 1] = A[j]\n",
        "    C[A[j]] -= 1\n",
        "  \n",
        "  return B"
      ],
      "metadata": {
        "id": "4lzt6E3qddGM"
      },
      "execution_count": 4,
      "outputs": []
    },
    {
      "cell_type": "markdown",
      "source": [
        "# **Radix Sort**"
      ],
      "metadata": {
        "id": "mqPLr0kXWCjG"
      }
    },
    {
      "cell_type": "markdown",
      "source": [
        "기수 정렬(Radix Sort)은 입력값의 자릿수(d) 각각에 대해 카운팅 정렬을 적용하여 입력 데이터의 최댓값인 k가 커질수록 효율이 떨어지는 카운팅 정렬의 단점을 보완한 정렬 알고리즘이다. 10진법으로 표현된 입력값에 기수 정렬을 적용하면 k 값이 9로 작아진다."
      ],
      "metadata": {
        "id": "j4tuWsFLeX2E"
      }
    },
    {
      "cell_type": "code",
      "source": [
        "def get_digit(number, d, base):\n",
        "  return (number // base ** d) % base\n",
        "\n",
        "def counting_sort_with_digit(A, d, base):\n",
        "    # k : ex) 10진수의 최대값 = 9\n",
        "    k = base - 1\n",
        "    B = [-1] * len(A)\n",
        "    C = [0] * (k + 1)\n",
        "\n",
        "    for a in A:\n",
        "        C[get_digit(a, d, base)] += 1\n",
        "\n",
        "    for i in range(k):\n",
        "        C[i + 1] += C[i]\n",
        "\n",
        "    for j in reversed(range(len(A))):\n",
        "        B[C[get_digit(A[j], d, base)] - 1] = A[j]\n",
        "        C[get_digit(A[j], d, base)] -= 1\n",
        "\n",
        "    return B\n",
        "\n",
        "from math import log\n",
        "\n",
        "def radix_sort(list, base=10):\n",
        "    \n",
        "    digit = int(log(max(list), base) + 1)\n",
        "   \n",
        "    for d in range(digit):\n",
        "        list = counting_sort_with_digit(list, d, base)\n",
        "    return list"
      ],
      "metadata": {
        "id": "fnsJj9zHgj3M"
      },
      "execution_count": 6,
      "outputs": []
    },
    {
      "cell_type": "code",
      "source": [
        "radix_sort(a)"
      ],
      "metadata": {
        "colab": {
          "base_uri": "https://localhost:8080/"
        },
        "id": "Bl8Gnu_3h2_E",
        "outputId": "d9fabda5-092a-4d5c-8dce-6dcd22215494"
      },
      "execution_count": 7,
      "outputs": [
        {
          "output_type": "execute_result",
          "data": {
            "text/plain": [
              "[1, 5, 15, 23, 36, 45, 132, 337]"
            ]
          },
          "metadata": {},
          "execution_count": 7
        }
      ]
    },
    {
      "cell_type": "markdown",
      "source": [
        "# **Heap Sort**"
      ],
      "metadata": {
        "id": "31bT0ux_h_e6"
      }
    },
    {
      "cell_type": "markdown",
      "source": [
        "힙 정렬(Heap Sort)은 완전 이진 트리로 구현되는 정렬 방식으로, 모든 노드가 힙 속성(각 노드의 값이 자신의 자식 노드 값보다 큰 이진 트리)을 만족하도록 재귀적으로 트리 구조를 만들어 정렬을 완성하는 정렬 알고리즘이다.\n",
        "\n",
        "주어진 원소들로 최대 힙을 구성한다.\n",
        "\n",
        "현재 힙의 루트 노드에는 최대값이 존재하게 된다. 루트의 값을 마지막 요소와 바꾼 후, 힙의 사이즈를 하나 줄인다.\n",
        "\n",
        "힙의 사이즈가 1보다 크면 위 과정을 반복한다."
      ],
      "metadata": {
        "id": "9UkqrIzLiB0U"
      }
    },
    {
      "cell_type": "code",
      "source": [
        "def heapify(unsorted, index, heap_size):\n",
        "\n",
        "    largest = index\n",
        "    left_index = 2 * index + 1\n",
        "    right_index = 2 * index + 2\n",
        "  \n",
        "    if left_index < heap_size and unsorted[left_index] > unsorted[largest]:\n",
        "        largest = left_index\n",
        "    if right_index < heap_size and unsorted[right_index] > unsorted[largest]:\n",
        "        largest = right_index\n",
        "    if largest != index:\n",
        "        unsorted[largest], unsorted[index] = unsorted[index], unsorted[largest]\n",
        "        heapify(unsorted, largest, heap_size)\n",
        "\n",
        "def heap_sort(unsorted):\n",
        "  \n",
        "    n = len(unsorted)\n",
        "  \n",
        "    for i in range(n//2-1, -1, -1):\n",
        "        heapify(unsorted, i, n)\n",
        "    for i in range(n-1, 0, -1):\n",
        "        unsorted[0], unsorted[i] = unsorted[i], unsorted[0]\n",
        "        heapify(unsorted, 0, i)\n",
        "    return unsorted"
      ],
      "metadata": {
        "id": "Z49kxE0FiFpc"
      },
      "execution_count": 8,
      "outputs": []
    },
    {
      "cell_type": "code",
      "source": [
        "heap_sort(a)"
      ],
      "metadata": {
        "colab": {
          "base_uri": "https://localhost:8080/"
        },
        "id": "qqss64qojEz9",
        "outputId": "63cb2706-d45c-4fa2-92c7-b5b3862b3fe4"
      },
      "execution_count": 9,
      "outputs": [
        {
          "output_type": "execute_result",
          "data": {
            "text/plain": [
              "[1, 5, 15, 23, 36, 45, 132, 337]"
            ]
          },
          "metadata": {},
          "execution_count": 9
        }
      ]
    }
  ]
}
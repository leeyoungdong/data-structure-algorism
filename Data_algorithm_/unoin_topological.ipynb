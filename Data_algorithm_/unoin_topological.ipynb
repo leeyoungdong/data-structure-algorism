{
  "nbformat": 4,
  "nbformat_minor": 0,
  "metadata": {
    "colab": {
      "provenance": []
    },
    "kernelspec": {
      "name": "python3",
      "display_name": "Python 3"
    },
    "language_info": {
      "name": "python"
    }
  },
  "cells": [
    {
      "cell_type": "markdown",
      "source": [
        "# **Union-find**"
      ],
      "metadata": {
        "id": "JGTeQiCM_It9"
      }
    },
    {
      "cell_type": "markdown",
      "source": [
        "유니온-파인드 혹은 서로소 집합(disjoint Sets) 자료구조는 서로소 부분 집합들로 나눠진 원소들에 대한 정보를 다루는 자료구조이다. 유니온-파인드 자료구조는 다음과 같이 합집합(Union)과 찾기(Find)연산을 제공한다."
      ],
      "metadata": {
        "id": "2gDqSQs2_p1-"
      }
    },
    {
      "cell_type": "markdown",
      "source": [
        "* 합집합(Union): 두개의 집합을 하나의 집합으로 합친다.\n",
        " 1. 서로 연결할 두 노드 A,B가 있다고 할때, A와 B의 루트 노드인 A'와 B'를 찾는다.\n",
        " 2. A'를 B'의 부모노드 혹은 B'를 A'의 부모노드로 설정한다.\n",
        "* 찾기(Find): 노드가 속한 집합을 반환한다."
      ],
      "metadata": {
        "id": "9wMS2JQ3_pxx"
      }
    },
    {
      "cell_type": "markdown",
      "source": [
        "**유니온-파인드 자료구조의 활용**\n",
        "\n",
        "무방향 그래프 내에서의 사이클을 판별할 수 있다. 합집합 연산은 그래프의 간선으로 대응된다고 할 때, 다음과 같은 알고리즘으로 사이클을 판별할 수 있다.\n",
        "\n",
        "* 간선으로 연결된 두 노드의 루트 노드를 확인\n",
        "* 만약 루트노드가 서로 다르다면 합집합 연산을 수행\n",
        "* 만약 루트노드가 같다면 사이클이 발생했다고 판단"
      ],
      "metadata": {
        "id": "TtaNsHO8_pwc"
      }
    },
    {
      "cell_type": "code",
      "source": [
        "#특정 원소가 속한 집합 찾기\n",
        "def find_parent(parent, x):\n",
        "  #루트 노드가 아니면, 찾을때까지 재귀호출\n",
        "  if parent[x] != x:\n",
        "     parent[x] = find_parent(parent, parent[x])\n",
        "  return parent[x]\n",
        "\n",
        "#두 원소가 속한 집합 합치기\n",
        "def union_parent(parent, a, b):\n",
        "  a= find_parent(parent, a)\n",
        "  b= find_parent(parent, b)\n",
        "  if a < b:\n",
        "      parent[b] = a\n",
        "  else:\n",
        "      parent[a] = b \n",
        "\n",
        "#노드의 개수와 간선의 개수 입력\n",
        "v, e = map(int, input().split())\n",
        "parent = [0] * (v + 1)#부모 테이블 초기화\n",
        "\n",
        "#부모 테이블에서 자기자신으로 초기화\n",
        "for i in range(1, v+1):\n",
        "  parent[i]=i\n",
        "\n",
        "#unoin연산 수행\n",
        "for i in range(e):\n",
        "  a, b = map(int, input().split())\n",
        "  unoin_parent(parent, a, b)\n",
        "\n",
        "#원소가 속한 집합 출력\n",
        "print('각 원소 집합',end='')\n",
        "for i in range(1, v+1):\n",
        "  print(find_parent(parent,i),end='')\n",
        "\n",
        "print()\n",
        "\n",
        "#부모 테이블 내용 출력\n",
        "print('부모 테이블',end='')\n",
        "for i in range(1, v+1):\n",
        "  print(parent[i],end='')"
      ],
      "metadata": {
        "id": "dSUVFdg0A1a9"
      },
      "execution_count": null,
      "outputs": []
    },
    {
      "cell_type": "markdown",
      "source": [
        "# **Topological Sort**"
      ],
      "metadata": {
        "id": "5YA2AZh__pu6"
      }
    },
    {
      "cell_type": "markdown",
      "source": [
        "위상정렬이란 방향 그래프내 모든 노드의 선행순서를 지키며 정점 순서대로 나열하는것. 위상 정렬의 대표적인 예로 대학교의 선수과목이 있다."
      ],
      "metadata": {
        "id": "_gbCKFIz_36k"
      }
    },
    {
      "cell_type": "markdown",
      "source": [
        "알고리즘 진행도\n",
        "\n",
        "* 진입차수가 0인 노드를 큐에 넣음\n",
        "* 큐가 빌때까지 다음을 반복\n",
        "  1. 큐에서 요소를 꺼내 해당노드에서 출발하는 간선을 그래프에서 제거 \n",
        "  2. 새롭게 진입차수가 0이 된 노드를 큐에 넣음."
      ],
      "metadata": {
        "id": "jRRfhFiQ_ptO"
      }
    },
    {
      "cell_type": "markdown",
      "source": [
        "만약 모든 노드를 반문하기 전 큐가 빈다면 사이클이 존재한다고 판단 할수있음.\n",
        "왜냐하면 사이클이 존재하는 경우 사이클을 형성하는 노드들의 진입차수가 항상 1이상이므로 큐에 넣을 수가 없기 때문이다."
      ],
      "metadata": {
        "id": "mPgeOxPI_pNr"
      }
    },
    {
      "cell_type": "code",
      "source": [
        "from collection import deque\n",
        "\n",
        "#노드와 간선의 개수\n",
        "v, e = map(int, input().split())\n",
        "#모든 노드에 진입차수 0으로 초기화\n",
        "indegree = [0] * (v + 1)\n",
        "# 각 노드에 연결된 간선정보 연결 리스트 초기화\n",
        "graph = [[] for i in range(v+1)]\n",
        "\n",
        "#방향 그래프의 모든 간선 정보 입력\n",
        "for _ in range(e):\n",
        "  a, b = map(int, input().split())\n",
        "  graph[a].append(b)#정점 a>b로 이동 가능\n",
        "  #진입차수 1증가\n",
        "  indegree[b] +=1\n",
        "\n",
        "#위상정렬 함수\n",
        "def topology_sort():\n",
        "  result = [] #수행결과 리스트\n",
        "  q = deque()\n",
        "  \n",
        "  #처음시작시 진입차수 0인 노드를 큐에 삽입\n",
        "  for i in range(1, v+1):\n",
        "    if indegree[i] == 0:\n",
        "      q.append(i)\n",
        "  #큐가 빌때까지 반복\n",
        "  while q:\n",
        "    #큐에서 원소 꺼내기\n",
        "    now = q.popleft()\n",
        "    result.append(now)\n",
        "    #해당 원소와 연결된 노드들의 진입차수에서 1빼기\n",
        "    for i in graph[now]:\n",
        "      indegree[i] -= 1\n",
        "      #새롭게 진입차수가 0이되는 노드를 큐에 삽입\n",
        "      if indegree[i] == 0\n",
        "        q.append(i)\n",
        "\n",
        "  # 위상정렬 수행결과 출력\n",
        "  for i in result:\n",
        "    print(i, end='')\n",
        "\n",
        "topology_sort()"
      ],
      "metadata": {
        "id": "8EzsUneWCT6D"
      },
      "execution_count": null,
      "outputs": []
    },
    {
      "cell_type": "markdown",
      "source": [
        "**진입차수(degree)**\n",
        "\n",
        "노드들의 관점에서 들어오는 간선의 개수를 진입차수(degree)라고한다."
      ],
      "metadata": {
        "id": "hP3qBhz0CMU0"
      }
    }
  ]
}
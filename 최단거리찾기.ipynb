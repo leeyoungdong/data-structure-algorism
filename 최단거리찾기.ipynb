{
  "nbformat": 4,
  "nbformat_minor": 0,
  "metadata": {
    "colab": {
      "provenance": []
    },
    "kernelspec": {
      "name": "python3",
      "display_name": "Python 3"
    },
    "language_info": {
      "name": "python"
    }
  },
  "cells": [
    {
      "cell_type": "markdown",
      "source": [
        "# **코딩에서의 최단거리**"
      ],
      "metadata": {
        "id": "NMFld48JHIdj"
      }
    },
    {
      "cell_type": "markdown",
      "source": [
        "한 노드에서 다른 노드로 가는 엣지에 cost가 있는 그래프가 주어졌을 때, 한지점 > 목표지점 or 모든 지점 > 모든 지점 까지의 cost가 가장 적게 드는 최단 경로를 찾는 문제제"
      ],
      "metadata": {
        "id": "hoU455iXHIYb"
      }
    },
    {
      "cell_type": "markdown",
      "source": [
        "대표적 알고리즘으로 Dijkstra, Floyd-Warshall, Bellman-Ford등 이있다."
      ],
      "metadata": {
        "id": "dJnTHfXYHIWU"
      }
    },
    {
      "cell_type": "markdown",
      "source": [
        "# **Dijkstra**"
      ],
      "metadata": {
        "id": "D8JLlesQHIUc"
      }
    },
    {
      "cell_type": "markdown",
      "source": [
        "한 노드에서 다른 모든 노드까지의 최단 거리를 구하는 최단 경로 알고리즘으로 그리디 알고리즘을 사용.\n",
        "\n",
        "cost(거리)는 반드시 음수가 없어야함. 이러한 특성으로 GPS길찾기 등에 응용됨\n",
        "\n",
        "기본 다익스트라 알고리즘은 추랍ㄹ 노드에서 다른 노드로 가는 최단거리를 기록하는 최단 거리 테이블과 해당 노드 방문여부를 살피는 visited 테이블을 사용한다."
      ],
      "metadata": {
        "id": "w10xWdTBHIRz"
      }
    },
    {
      "cell_type": "markdown",
      "source": [
        "**동작 방식**\n",
        "\n",
        "최단 거리 테이블에 출발 노드 - 0, 나머지 노드는 INF로 초기화\n",
        "\n",
        "1. 출발 노드를 방문(visited[start] = True)하고 출발 노드에서 갈 수 있는 다른 노드들까지의 거리를 최단 거리 테이블에 기록.\n",
        "2. 최단 거리 테이블을 보고 가장 거리가 짧은 노드를 방문(visited에 기록)\n",
        "3. 해당 노드와 연결된 노드 중 방문하지 않은 노드에 대해 현재가지 거리 + 방문하지 않은 노드까지 거리가 최단 거리 테이블의 거리보다 짧다면 최단거리 테이블을 갱신\n",
        "4. 모든 노드에 방문할 때까지 2 - 3과정 반복"
      ],
      "metadata": {
        "id": "DoxemSwuHIP1"
      }
    },
    {
      "cell_type": "markdown",
      "source": [
        "시간복잡도 = O(V^2) [V= 노드의 개수].\n",
        "\n",
        "모든 노드에 대해 방문하고 테이블을 살표보기 때문이다. 최단 거리를 찾을때 우선순위 큐를 사용하고 큐에서 꺼낸 거리보다 최단 거리 테이블의값이 더 작다면 방문한것으로 간주하는 방법으로 개선하는것도 가능하다.\n",
        "\n",
        " 우선순위 큐를 사용한 시간복잡도 O(Elong V) [V= 노드의 개수, E= 엣지의 개수]"
      ],
      "metadata": {
        "id": "doMZkNKUHINq"
      }
    },
    {
      "cell_type": "code",
      "source": [
        "import heapq\n",
        "import sys\n",
        "input = sys.stdin.readline\n",
        "INF = int(1e9)\n",
        "\n",
        "# 노드, 간선 개수\n",
        "n, m = map(int, input().split())\n",
        "# 시작 노드\n",
        "start= int(input())\n",
        "# 각 노드에 연결된 노드에 대한 정보 list\n",
        "graph = [[] for i in range(n+1)]\n",
        "# 최단 거리테이블 초기화\n",
        "distance = [INF] * (n+1)\n",
        "\n",
        "# 간선정보 입력 받기\n",
        "for _ in range(m):\n",
        "  a, b, c = map(int, input().spilist)\n",
        "  graph[a].append((b, c))\n",
        "\n",
        "def dijkstra(start):\n",
        "  q = []\n",
        "  #시작노드로 가기위한 경로 0, 큐 삽입\n",
        "  heapq.heappush(q, (0, start))\n",
        "  distance[start] = 0\n",
        "  while q: # 큐가 비어있지 않다면\n",
        "           # 최단거리가 짧은 노드 정보 꺼내기\n",
        "           dist, now = heapq.heappop(q)\n",
        "           #현재 노드가 처리된적 있는 노드면 pass\n",
        "           if distance[now] < dist:\n",
        "             continue\n",
        "           #현재 노드와 연결된 다른 노드들 확인 \n",
        "           for to_other in graph[now]:\n",
        "              cost = dist + to_other[1]\n",
        "              if distance[to_other[0]] > cost:\n",
        "                  distance[to_other[0]] = cost\n",
        "                  heapq.heappush(q, (cost, to_other[0]))\n",
        "dijkstra(start)\n",
        "\n",
        "for i in range(1, n+1):\n",
        "  if distance[i] == INF:\n",
        "    print('inf')\n",
        "  else:\n",
        "    print(distance[i])"
      ],
      "metadata": {
        "id": "5JcJs7gINuv6"
      },
      "execution_count": null,
      "outputs": []
    },
    {
      "cell_type": "markdown",
      "source": [
        "# **Floyd-Warshall**"
      ],
      "metadata": {
        "id": "e28YtQE5HILS"
      }
    },
    {
      "cell_type": "markdown",
      "source": [],
      "metadata": {
        "id": "Hq-pz0QEHIIr"
      }
    },
    {
      "cell_type": "markdown",
      "source": [
        "모든 지점에서 모든 지점까지의 최단 경로를 구하는 알고리즘\n",
        "\n",
        "A -> B의 거리를 구할 때, 특정 노드 X를 중간ㄷ에 거쳐 가는 값과 기존 최단 겨로 테이블 값중 어느것이 짧은지 비교하는 것이 핵심. 이 과정에서 X를 모든 노드로 바꿔가면 진행\n",
        "\n",
        "모든 노드에 대해 해당 노드를 거쳐가는 경우를 계산하므로 플로이드-워셜 알고리즘의 시간복잡도 = O(V^3)[V= 노드의 개수]\n",
        "\n",
        "다익스트라 = 그리디한 방식 / 플로이드-워셜은 점화식을 통해 테이블을 갱신하기 때문에 DP를 사용하는 방식"
      ],
      "metadata": {
        "id": "1jQp_9KxXEdL"
      }
    },
    {
      "cell_type": "markdown",
      "source": [
        "![image.png](data:image/png;base64,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)"
      ],
      "metadata": {
        "id": "EzTDsuxtXEab"
      }
    },
    {
      "cell_type": "code",
      "source": [
        "INF = int(1e9)\n",
        "\n",
        "# 노드, 간선 개수\n",
        "n, m = map(int, input().split())\n",
        "# 2차원 리스트(그래프), INF로 초기화\n",
        "graph = [[INF] for i in range(n+1)]\n",
        "\n",
        "# 자기 자신으로 가는 비용 - 0으로 초기화\n",
        "for i in range(1, n+1):\n",
        "  graph[i][i] = 0\n",
        "\n",
        "# 각 간선에 대한 정보를 입력 및 초기화\n",
        "for _ in range(m):\n",
        "  a, b, c = map(int, input().spilist)\n",
        "  graph[a][b] = c\n",
        "\n",
        "# 점화식에 따라 알고리즘 수행\n",
        "for k in range(1, n+1):\n",
        "\tfor a in range(1, n+1):\n",
        "\t\tfor b in range(1, n+1):\n",
        "\t\t\tgraph[a][b] = min(graph[a][b], graph[a][k] + graph[k][b])\n",
        "   \n",
        "# 수행된 결과를 출력\n",
        "for a in range(1, n+1):\n",
        "\tfor b in range(1, n+1):\n",
        "\t\t# 도달할 수 없는 경우, 무한으로 출력\n",
        "\t\tif graph[a][b] == INF:\n",
        "\t\t\tprint(\"INFINITY\")\n",
        "\t\telse:\n",
        "\t\t\tprint(graph[a][b], end = ' ')\n",
        "\tprint()"
      ],
      "metadata": {
        "id": "HSFunAO8dKYz"
      },
      "execution_count": null,
      "outputs": []
    },
    {
      "cell_type": "markdown",
      "source": [
        "# **Bellman-Ford**"
      ],
      "metadata": {
        "id": "hqawmXpRXEYN"
      }
    },
    {
      "cell_type": "markdown",
      "source": [
        "다익스트라 알고리즘은 간선이 음수인 경우 음수 사이클에 빠질 수 있기 때문에 사용할 수 없다. 벨만포드 알고리즘을 사용하면 음수 사이클을 찾을 수 있다.\n",
        "\n",
        "기본적인 개념은 모든 엣지를 거치면서 최단거리를 찾는것. 모든 노드에 대해 작업이 진행되며, 시간복잡도 = O(VE)[V= 노드의 개수, E= 엣지의 개수]"
      ],
      "metadata": {
        "id": "m21zcD5kXEWD"
      }
    },
    {
      "cell_type": "markdown",
      "source": [
        "1. 출발 노드 설정\n",
        "2. 최단거리 테이블 출발노드 = 0, 나머지 INF 로 초기화\n",
        "3. 모든 E를 확인하며 테이블 값보다 (현재 노드 최단거리 + 현재 노드에서 해당 노드로 가는 거리)가 작다면 테이블을 갱신하는것을 V-1번 반복\n",
        "4. 음수 사이클을 확인하기 위해서 3의 과정을 한번 만 더 수행 [이때 테이블이 갱신된다면 음수 사이클이 있는것]\n",
        "\n",
        "다익스트라 알고리즘은 최적의 해를 찾는데 비해, 벨만 포드 알고리즘은 모든 간선을 모든 노드 개수만큼 반복하는 점에서 비효율적임. 하지만 음수 사이클을 처리할 수 있는 점이 특징"
      ],
      "metadata": {
        "id": "OITL4yJDXETT"
      }
    },
    {
      "cell_type": "code",
      "source": [
        "import sys\n",
        "input = sys.input.readline\n",
        "INF = int(1e9)\n",
        "\n",
        "# 노드 수, 간선 수 입력\n",
        "n, m = map(int, input().split())\n",
        "# 모든 간선에 대한 정보를 담는 리스트\n",
        "edges = []\n",
        "# 최단 거리 테이블을 모두 무한으로 초기화\n",
        "dist = [INF] * (n+1)\n",
        "\n",
        "# 그래프 생성\n",
        "for _ in range(m):\n",
        "  a, b, c = map(int, input().split()) # 노드, 인접 노드, 가중치\n",
        "  edges.append(a, b, c)\n",
        "\n",
        "\n",
        "def bf(start):\n",
        "  #시작 노드에 대해 거리를 0으로 초기화\n",
        "  dist[start] = 0 \n",
        "  # 정점 수만큼 반복\n",
        "  for i in range(n):\n",
        "    # 매 반복 마다 모든 간선\n",
        "    for j in range(m):\n",
        "      cur = edges[j][0] # 현재 노드\n",
        "      next_node = edges[j][1] # 다음 노드\n",
        "      cost = edges[j][2] # 가중치\n",
        "      # 현재 간선을 거려서 다른 노드로 이동하는 거리가 더 짧은 경우\n",
        "      if dist[cur] != INF and dist[next_node] > dist[cur] + cost:\n",
        "        dist[next_node] = dist[cur] + cost\n",
        "        # n번째 라운드에서도 값이 갱신된다면 음수 순환이 존재\n",
        "        if i == n - 1: # n-1번 이후 반복에도 값이 갱신되면 음수 순환 존재\n",
        "         return True\n",
        "  return False\n",
        "\n",
        "start = 1\n",
        "negative_cycle = bf(start)\n",
        "\n",
        "if negative_cycle:\n",
        "  print(\"negative cycle\")\n",
        "else:\n",
        "  # 1번 노드를 제외한 다른 모든 노드로 가기 위한 최단 거리 출력\n",
        "  for i in range(2, n+1):\n",
        "    if dist[i] == INF: # 도달할 수 없는 경우 -1\n",
        "      print(\"INF\")\n",
        "    else: # 도달할 수 있는 겨우 거리\n",
        "      print(dist[i])"
      ],
      "metadata": {
        "id": "RP4KwbPSdGKU"
      },
      "execution_count": null,
      "outputs": []
    }
  ]
}
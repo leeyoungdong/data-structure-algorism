{
  "nbformat": 4,
  "nbformat_minor": 0,
  "metadata": {
    "colab": {
      "provenance": []
    },
    "kernelspec": {
      "name": "python3",
      "display_name": "Python 3"
    },
    "language_info": {
      "name": "python"
    }
  },
  "cells": [
    {
      "cell_type": "markdown",
      "source": [
        "# **Dynamic Programming**"
      ],
      "metadata": {
        "id": "95341sNyv3ok"
      }
    },
    {
      "cell_type": "markdown",
      "source": [
        "다이나믹 프로그래밍은 중복된 하위문제들의 결과를 저장 한 후 원래 문제의 결과와 합하는 알고리즘"
      ],
      "metadata": {
        "id": "ORMoZ5_Bv3mk"
      }
    },
    {
      "cell_type": "markdown",
      "source": [
        "다이나믹 프로그래밍과 분할 정복 알고리즘의 큰 차이점 - 중복된 문제의 차이\n",
        "\n",
        "분할정복 알고리즘을 사용한 병합 정렬이나 퀵정렬의 경우 하위 문제들이 중복되지 않는다.\n",
        "\n",
        "다이나믹 프로그래밍은 중복된 하위 문제들의 결과를 저장함으로써 중복 계산을 피한다.\n",
        "\n",
        "만약 문제가 중복된 하위문제가 없다면 그문제는 다이나믹 프로그래밍으로 풀 수 없다.\n",
        "\n",
        "크게 상향식과 하향식 접근법으로 나뉜다."
      ],
      "metadata": {
        "id": "LSdjNa5fv3kU"
      }
    },
    {
      "cell_type": "markdown",
      "source": [
        "**상향식 접근법: 타뷸레이션(Tabulation)**"
      ],
      "metadata": {
        "id": "p0so9etZv3h8"
      }
    },
    {
      "cell_type": "markdown",
      "source": [
        "Bottom-Up Approach는 작은 문제의 정답을 이용해 큰 문제의 정답을 푸는 방식이다. 데이터를 테이블 형태로 저장하기 때문에 타뷸레이션이라고 부른다"
      ],
      "metadata": {
        "id": "ny-XZ2ZCxAtT"
      }
    },
    {
      "cell_type": "code",
      "source": [
        "def fibb(n):\n",
        "  table = [1] * (n+1)\n",
        "  for i in range(2, n+1):\n",
        "    table[i] = table[i-1] + table [i-2]\n",
        "  return table[n]"
      ],
      "metadata": {
        "id": "jvCgHj1AxCAD"
      },
      "execution_count": 1,
      "outputs": []
    },
    {
      "cell_type": "markdown",
      "source": [
        "**하향식 접근법: 메모이제이션(Memoization)**"
      ],
      "metadata": {
        "id": "UqnpDhOgxBMj"
      }
    },
    {
      "cell_type": "markdown",
      "source": [
        "Top-Down Approach는 작은 문제의 결과를 얻었는지 확인해가며 문제를 재귀로 풀어가는 방식이다. 분할정복에서의 재귀 방식과 유사, 하지만 이미 푼 문제인지 검사한다. 이와 같은 방식을 메모이제이션이라고 부른다."
      ],
      "metadata": {
        "id": "mAJIj-U9xBoj"
      }
    },
    {
      "cell_type": "code",
      "source": [
        "table = []\n",
        "\n",
        "def fibb(n):\n",
        "  if n <= 1:\n",
        "    return 1\n",
        "  if table[n]:\n",
        "    return table[n]\n",
        "  table[n] = fibb(n-1) + fibb(n-2)\n",
        "  return table[n]"
      ],
      "metadata": {
        "id": "WjyP5neV2SmT"
      },
      "execution_count": 3,
      "outputs": []
    }
  ]
}